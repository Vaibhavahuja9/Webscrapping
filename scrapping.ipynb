{
 "cells": [
  {
   "cell_type": "code",
   "execution_count": 81,
   "metadata": {},
   "outputs": [],
   "source": [
    "from selenium import webdriver\n",
    "from selenium.webdriver.chrome.service import Service\n",
    "from selenium.webdriver.common.by import By\n",
    "import numpy as np\n",
    "from tqdm import tqdm\n",
    "import pandas as pd\n"
   ]
  },
  {
   "cell_type": "code",
   "execution_count": 8,
   "metadata": {},
   "outputs": [],
   "source": [
    "path = 'chromedriver.exe'\n",
    "options = webdriver.ChromeOptions()"
   ]
  },
  {
   "cell_type": "code",
   "execution_count": 9,
   "metadata": {},
   "outputs": [],
   "source": [
    "chrome_service = Service(executable_path=path)"
   ]
  },
  {
   "cell_type": "code",
   "execution_count": 10,
   "metadata": {},
   "outputs": [],
   "source": [
    "chrome = webdriver.Chrome(options = options, service = chrome_service)"
   ]
  },
  {
   "cell_type": "code",
   "execution_count": 12,
   "metadata": {},
   "outputs": [],
   "source": [
    "chrome.get('https://www.nasmm.org/find-a-move-manager/list/?state=pa&country=us')"
   ]
  },
  {
   "cell_type": "code",
   "execution_count": 15,
   "metadata": {},
   "outputs": [],
   "source": [
    "xpath = '/html/body/div[3]/div/section/div/div[2]/div/ul/li[1]/div[1]/div[2]/h5/b'"
   ]
  },
  {
   "cell_type": "code",
   "execution_count": 17,
   "metadata": {},
   "outputs": [
    {
     "data": {
      "text/plain": [
       "'Jill Yesko'"
      ]
     },
     "execution_count": 17,
     "metadata": {},
     "output_type": "execute_result"
    }
   ],
   "source": [
    "chrome.find_element(By.XPATH, xpath).text"
   ]
  },
  {
   "cell_type": "code",
   "execution_count": 18,
   "metadata": {},
   "outputs": [],
   "source": [
    "xpth = '/html/body/div[3]/div/section/div/div[2]/div/div[2]/a[6]'"
   ]
  },
  {
   "cell_type": "code",
   "execution_count": 20,
   "metadata": {},
   "outputs": [],
   "source": [
    "chrome.find_element(By.XPATH, xpth).click()"
   ]
  },
  {
   "cell_type": "code",
   "execution_count": 60,
   "metadata": {},
   "outputs": [],
   "source": [
    "xpath1 = '/html/body/div[3]/div/section/div/div[2]/div/ul/li[1]'"
   ]
  },
  {
   "cell_type": "code",
   "execution_count": 61,
   "metadata": {},
   "outputs": [
    {
     "data": {
      "text/plain": [
       "['Discover Organizing',\n",
       " 'Jill Yesko',\n",
       " 'Bridgeville, PA 15017',\n",
       " '',\n",
       " 'Phone: 412-344-3450',\n",
       " 'Service Area: Greater Pittsburgh Metro Area',\n",
       " 'Email: jill@discoverorganizing.com',\n",
       " 'Website: http://www.discoverorganizing.com',\n",
       " 'Join Date: 2012',\n",
       " 'Accredited: 03/2021 — 02/2027',\n",
       " 'Certified: 01/2023 — 01/2026']"
      ]
     },
     "execution_count": 61,
     "metadata": {},
     "output_type": "execute_result"
    }
   ],
   "source": [
    "chrome.find_element(By.XPATH, xpath1).text.split('\\n')"
   ]
  },
  {
   "cell_type": "code",
   "execution_count": 62,
   "metadata": {},
   "outputs": [],
   "source": [
    "company_name = chrome.find_element(By.XPATH, xpath1).text.split('\\n')[0]"
   ]
  },
  {
   "cell_type": "code",
   "execution_count": 63,
   "metadata": {},
   "outputs": [],
   "source": [
    "name = chrome.find_element(By.XPATH, xpath1).text.split('\\n')[1]"
   ]
  },
  {
   "cell_type": "code",
   "execution_count": 64,
   "metadata": {},
   "outputs": [],
   "source": [
    "address = chrome.find_element(By.XPATH, xpath1).text.split('\\n')[2]"
   ]
  },
  {
   "cell_type": "code",
   "execution_count": 65,
   "metadata": {},
   "outputs": [],
   "source": [
    "phone = chrome.find_element(By.XPATH, xpath1).text.split('\\n')[4]"
   ]
  },
  {
   "cell_type": "code",
   "execution_count": 66,
   "metadata": {},
   "outputs": [],
   "source": [
    "info = chrome.find_element(By.XPATH, xpath1).text.split('\\n')"
   ]
  },
  {
   "cell_type": "code",
   "execution_count": 67,
   "metadata": {},
   "outputs": [
    {
     "data": {
      "text/plain": [
       "['Discover Organizing',\n",
       " 'Jill Yesko',\n",
       " 'Bridgeville, PA 15017',\n",
       " '',\n",
       " 'Phone: 412-344-3450',\n",
       " 'Service Area: Greater Pittsburgh Metro Area',\n",
       " 'Email: jill@discoverorganizing.com',\n",
       " 'Website: http://www.discoverorganizing.com',\n",
       " 'Join Date: 2012',\n",
       " 'Accredited: 03/2021 — 02/2027',\n",
       " 'Certified: 01/2023 — 01/2026']"
      ]
     },
     "execution_count": 67,
     "metadata": {},
     "output_type": "execute_result"
    }
   ],
   "source": [
    "info"
   ]
  },
  {
   "cell_type": "code",
   "execution_count": 71,
   "metadata": {},
   "outputs": [],
   "source": [
    "try:\n",
    "    alternate_phone = [i for i in info if 'Alternative Phone:' in i][0]\n",
    "except:\n",
    "    alternate_phone = np.nan"
   ]
  },
  {
   "cell_type": "code",
   "execution_count": 74,
   "metadata": {},
   "outputs": [],
   "source": [
    "info = chrome.find_element(By.XPATH, xpath1).text.split('\\n')"
   ]
  },
  {
   "cell_type": "code",
   "execution_count": 76,
   "metadata": {},
   "outputs": [],
   "source": [
    "try:\n",
    "    email = [i for i in info if 'Email:' in i][0]\n",
    "except:\n",
    "    email = np.nan"
   ]
  },
  {
   "cell_type": "code",
   "execution_count": null,
   "metadata": {},
   "outputs": [],
   "source": [
    "x = chrome.find_element(By.XPATH,'/html/body/div[3]/div/section/div/div[2]/div/div[1]').text"
   ]
  },
  {
   "cell_type": "code",
   "execution_count": 102,
   "metadata": {},
   "outputs": [],
   "source": [
    "x1 = int(x.split()[1].split('-')[0])\n",
    "x2 = int(x.split()[1].split('-')[1])\n",
    "x3 = int(x.split()[3])"
   ]
  },
  {
   "cell_type": "code",
   "execution_count": 105,
   "metadata": {},
   "outputs": [],
   "source": [
    "num_pages = x3/(x2-x1+1)"
   ]
  },
  {
   "cell_type": "code",
   "execution_count": 106,
   "metadata": {},
   "outputs": [],
   "source": [
    "num_people = x2-x1+1"
   ]
  },
  {
   "cell_type": "code",
   "execution_count": null,
   "metadata": {},
   "outputs": [
    {
     "name": "stderr",
     "output_type": "stream",
     "text": [
      "100%|██████████| 10/10 [00:01<00:00,  5.72it/s]\n"
     ]
    }
   ],
   "source": [
    "\n",
    "CN = []\n",
    "N = []\n",
    "A = []\n",
    "PN = []\n",
    "APN = []\n",
    "EM = []\n",
    "\n",
    "chrome.get('https://www.nasmm.org/find-a-move-manager/list/?state=pa&country=us')\n",
    "x = chrome.find_element(By.XPATH,'/html/body/div[3]/div/section/div/div[2]/div/div[1]').text\n",
    "\n",
    "x1 = int(x.split()[1].split('-')[0])\n",
    "x2 = int(x.split()[1].split('-')[1])\n",
    "x3 = int(x.split()[3])\n",
    "num_pages = x3/(x2-x1+1)\n",
    "num_people = x2-x1+1\n",
    "\n",
    "for k in range(1,num_pages+1):\n",
    "    chrome.get('https://www.nasmm.org/find-a-move-manager/list/?state=pa&country=us')\n",
    "    x = chrome.find_element(By.XPATH,'/html/body/div[3]/div/section/div/div[2]/div/div[1]').text\n",
    "    x1 = int(x.split()[1].split('-')[0])\n",
    "    x2 = int(x.split()[1].split('-')[1])\n",
    "    x3 = int(x.split()[3])\n",
    "    num_people = x2-x1+1\n",
    "    \n",
    "    for j in tqdm(range(1,num_people+1)):\n",
    "        xpath1 = '/html/body/div[3]/div/section/div/div[2]/div/ul/li[{}]'.format(j+(k-1)*10)\n",
    "        company_name = chrome.find_element(By.XPATH, xpath1).text.split('\\n')[0]\n",
    "        name = chrome.find_element(By.XPATH, xpath1).text.split('\\n')[1]\n",
    "        address = chrome.find_element(By.XPATH, xpath1).text.split('\\n')[2]\n",
    "        phone = chrome.find_element(By.XPATH, xpath1).text.split('\\n')[4]\n",
    "        info = chrome.find_element(By.XPATH, xpath1).text.split('\\n')\n",
    "        try:\n",
    "            alternate_phone = [i for i in info if 'Alternative Phone:' in i][0]\n",
    "        except:\n",
    "            alternate_phone = np.nan\n",
    "        try:\n",
    "            email = [i for i in info if 'Email:' in i][0]\n",
    "        except:\n",
    "            email = np.nan\n",
    "        CN.append(company_name)\n",
    "        N.append(name)\n",
    "        A.append(address)\n",
    "        PN.append(phone)\n",
    "        APN.append(alternate_phone)\n",
    "        EM.append(email)\n",
    "    chrome.find_element(By.XPATH,'/html/body/div[3]/div/section/div/div[2]/div/div[2]/a[6]')"
   ]
  },
  {
   "cell_type": "code",
   "execution_count": 80,
   "metadata": {},
   "outputs": [
    {
     "data": {
      "text/plain": [
       "['Jill Yesko',\n",
       " 'Jill Kearney, SMM-C',\n",
       " 'Karen Fretz',\n",
       " 'Ron Shuma, SMM-C',\n",
       " 'Connie Corl',\n",
       " 'Charlotte Schutzman, SMM-C',\n",
       " 'Roberta Reilly',\n",
       " 'Erin Covolesky',\n",
       " 'Mary Ann Kleschick',\n",
       " 'Justin Showalter']"
      ]
     },
     "execution_count": 80,
     "metadata": {},
     "output_type": "execute_result"
    }
   ],
   "source": [
    "N"
   ]
  },
  {
   "cell_type": "code",
   "execution_count": 85,
   "metadata": {},
   "outputs": [],
   "source": [
    "df = pd.DataFrame(CN, columns = ['Company Name'])\n",
    "df['Name'] = N\n",
    "df['Email'] = EM\n",
    "df['Phone'] = PN\n",
    "df['Alternative Phone'] = APN\n",
    "df['Address'] = A"
   ]
  },
  {
   "cell_type": "code",
   "execution_count": 86,
   "metadata": {},
   "outputs": [
    {
     "data": {
      "text/html": [
       "<div>\n",
       "<style scoped>\n",
       "    .dataframe tbody tr th:only-of-type {\n",
       "        vertical-align: middle;\n",
       "    }\n",
       "\n",
       "    .dataframe tbody tr th {\n",
       "        vertical-align: top;\n",
       "    }\n",
       "\n",
       "    .dataframe thead th {\n",
       "        text-align: right;\n",
       "    }\n",
       "</style>\n",
       "<table border=\"1\" class=\"dataframe\">\n",
       "  <thead>\n",
       "    <tr style=\"text-align: right;\">\n",
       "      <th></th>\n",
       "      <th>Company Name</th>\n",
       "      <th>Name</th>\n",
       "      <th>Email</th>\n",
       "      <th>Phone</th>\n",
       "      <th>Alternative Phone</th>\n",
       "      <th>Address</th>\n",
       "    </tr>\n",
       "  </thead>\n",
       "  <tbody>\n",
       "    <tr>\n",
       "      <th>0</th>\n",
       "      <td>Discover Organizing</td>\n",
       "      <td>Jill Yesko</td>\n",
       "      <td>Email: jill@discoverorganizing.com</td>\n",
       "      <td>Phone: 412-344-3450</td>\n",
       "      <td>NaN</td>\n",
       "      <td>Bridgeville, PA 15017</td>\n",
       "    </tr>\n",
       "    <tr>\n",
       "      <th>1</th>\n",
       "      <td>Specialty Moves by Design, Div of The JDK Grou...</td>\n",
       "      <td>Jill Kearney, SMM-C</td>\n",
       "      <td>Email: info@specialtymovesbydesign.com</td>\n",
       "      <td>Phone: 610-295-0036</td>\n",
       "      <td>NaN</td>\n",
       "      <td>Allentown, PA 18103</td>\n",
       "    </tr>\n",
       "    <tr>\n",
       "      <th>2</th>\n",
       "      <td>A Thoughtful Transition</td>\n",
       "      <td>Karen Fretz</td>\n",
       "      <td>Email: Karenfretz@athoughtfultransition.com</td>\n",
       "      <td>Phone: 215-660-5052</td>\n",
       "      <td>Alternative Phone: 610-751-3738</td>\n",
       "      <td>Souderton, PA 18964</td>\n",
       "    </tr>\n",
       "    <tr>\n",
       "      <th>3</th>\n",
       "      <td>A+ Transitions</td>\n",
       "      <td>Ron Shuma, SMM-C</td>\n",
       "      <td>Email: organize@aplusorganizing.com</td>\n",
       "      <td>Phone: 646-283-5575</td>\n",
       "      <td>NaN</td>\n",
       "      <td>Pittsburgh, PA 15217</td>\n",
       "    </tr>\n",
       "    <tr>\n",
       "      <th>4</th>\n",
       "      <td>Adult Transitional Care,LLC</td>\n",
       "      <td>Connie Corl</td>\n",
       "      <td>Email: Conniec@adulttransitionalcare.com</td>\n",
       "      <td></td>\n",
       "      <td>NaN</td>\n",
       "      <td>Rose Mwangi</td>\n",
       "    </tr>\n",
       "    <tr>\n",
       "      <th>5</th>\n",
       "      <td>All Moving Matters</td>\n",
       "      <td>Charlotte Schutzman, SMM-C</td>\n",
       "      <td>Email: Charlotte@AllMovingMatters.com</td>\n",
       "      <td>Phone: 610-668-2289</td>\n",
       "      <td>Alternative Phone: 610-731-5939</td>\n",
       "      <td>Gladwyne, PA 19035</td>\n",
       "    </tr>\n",
       "    <tr>\n",
       "      <th>6</th>\n",
       "      <td>Almost Home Relocation Services</td>\n",
       "      <td>Roberta Reilly</td>\n",
       "      <td>Email: rsreilly8@comcast.net</td>\n",
       "      <td>Phone: 484-467-5300</td>\n",
       "      <td>NaN</td>\n",
       "      <td>West Chester, PA 19380</td>\n",
       "    </tr>\n",
       "    <tr>\n",
       "      <th>7</th>\n",
       "      <td>Amplo Organizing LLC</td>\n",
       "      <td>Erin Covolesky</td>\n",
       "      <td>Email: erin@amploorganizing.com</td>\n",
       "      <td>Phone: 484-574-5672</td>\n",
       "      <td>NaN</td>\n",
       "      <td>Gilbertsville, PA 19525</td>\n",
       "    </tr>\n",
       "    <tr>\n",
       "      <th>8</th>\n",
       "      <td>Arrive Move Managers</td>\n",
       "      <td>Mary Ann Kleschick</td>\n",
       "      <td>Email: maryann@arrivemovemanagers.com</td>\n",
       "      <td></td>\n",
       "      <td>Alternative Phone: 2155651060</td>\n",
       "      <td>Marcus Timmons</td>\n",
       "    </tr>\n",
       "    <tr>\n",
       "      <th>9</th>\n",
       "      <td>Beyond the Fork in the Road</td>\n",
       "      <td>Justin Showalter</td>\n",
       "      <td>Email: liz@beyondtheforkintheroad.com</td>\n",
       "      <td>Phone: 717-335-8080</td>\n",
       "      <td>NaN</td>\n",
       "      <td>Denver, PA 17517</td>\n",
       "    </tr>\n",
       "  </tbody>\n",
       "</table>\n",
       "</div>"
      ],
      "text/plain": [
       "                                        Company Name  \\\n",
       "0                                Discover Organizing   \n",
       "1  Specialty Moves by Design, Div of The JDK Grou...   \n",
       "2                            A Thoughtful Transition   \n",
       "3                                     A+ Transitions   \n",
       "4                        Adult Transitional Care,LLC   \n",
       "5                                 All Moving Matters   \n",
       "6                    Almost Home Relocation Services   \n",
       "7                               Amplo Organizing LLC   \n",
       "8                               Arrive Move Managers   \n",
       "9                        Beyond the Fork in the Road   \n",
       "\n",
       "                         Name                                        Email  \\\n",
       "0                  Jill Yesko           Email: jill@discoverorganizing.com   \n",
       "1         Jill Kearney, SMM-C       Email: info@specialtymovesbydesign.com   \n",
       "2                 Karen Fretz  Email: Karenfretz@athoughtfultransition.com   \n",
       "3            Ron Shuma, SMM-C          Email: organize@aplusorganizing.com   \n",
       "4                 Connie Corl     Email: Conniec@adulttransitionalcare.com   \n",
       "5  Charlotte Schutzman, SMM-C        Email: Charlotte@AllMovingMatters.com   \n",
       "6              Roberta Reilly                 Email: rsreilly8@comcast.net   \n",
       "7              Erin Covolesky              Email: erin@amploorganizing.com   \n",
       "8          Mary Ann Kleschick        Email: maryann@arrivemovemanagers.com   \n",
       "9            Justin Showalter        Email: liz@beyondtheforkintheroad.com   \n",
       "\n",
       "                 Phone                Alternative Phone  \\\n",
       "0  Phone: 412-344-3450                              NaN   \n",
       "1  Phone: 610-295-0036                              NaN   \n",
       "2  Phone: 215-660-5052  Alternative Phone: 610-751-3738   \n",
       "3  Phone: 646-283-5575                              NaN   \n",
       "4                                                   NaN   \n",
       "5  Phone: 610-668-2289  Alternative Phone: 610-731-5939   \n",
       "6  Phone: 484-467-5300                              NaN   \n",
       "7  Phone: 484-574-5672                              NaN   \n",
       "8                         Alternative Phone: 2155651060   \n",
       "9  Phone: 717-335-8080                              NaN   \n",
       "\n",
       "                   Address  \n",
       "0    Bridgeville, PA 15017  \n",
       "1      Allentown, PA 18103  \n",
       "2      Souderton, PA 18964  \n",
       "3     Pittsburgh, PA 15217  \n",
       "4              Rose Mwangi  \n",
       "5       Gladwyne, PA 19035  \n",
       "6   West Chester, PA 19380  \n",
       "7  Gilbertsville, PA 19525  \n",
       "8           Marcus Timmons  \n",
       "9         Denver, PA 17517  "
      ]
     },
     "execution_count": 86,
     "metadata": {},
     "output_type": "execute_result"
    }
   ],
   "source": [
    "df"
   ]
  },
  {
   "cell_type": "code",
   "execution_count": null,
   "metadata": {},
   "outputs": [],
   "source": []
  }
 ],
 "metadata": {
  "kernelspec": {
   "display_name": "venv",
   "language": "python",
   "name": "python3"
  },
  "language_info": {
   "codemirror_mode": {
    "name": "ipython",
    "version": 3
   },
   "file_extension": ".py",
   "mimetype": "text/x-python",
   "name": "python",
   "nbconvert_exporter": "python",
   "pygments_lexer": "ipython3",
   "version": "3.12.6"
  }
 },
 "nbformat": 4,
 "nbformat_minor": 2
}
